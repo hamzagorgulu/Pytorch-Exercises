{
 "cells": [
  {
   "cell_type": "code",
   "execution_count": 1,
   "metadata": {},
   "outputs": [
    {
     "name": "stdout",
     "output_type": "stream",
     "text": [
      "tensor([10.,  3.])\n"
     ]
    }
   ],
   "source": [
    "# pytorch is just numpy on the GPU with some nice helper functions. But I run on CPU now.\n",
    "import torch\n",
    "\n",
    "x = torch.Tensor([5,3])\n",
    "y = torch.Tensor([2,1])\n",
    "# Tensor is basically a multi dimentional array.\n",
    "\n",
    "print(x * y)"
   ]
  },
  {
   "cell_type": "code",
   "execution_count": 2,
   "metadata": {},
   "outputs": [
    {
     "name": "stdout",
     "output_type": "stream",
     "text": [
      "tensor([[0., 0., 0., 0., 0.],\n",
      "        [0., 0., 0., 0., 0.]])\n",
      "torch.Size([2, 5])\n"
     ]
    }
   ],
   "source": [
    "x = torch.zeros([2,5])\n",
    "print(x)\n",
    "print(x.shape)  #again, similar to numpy"
   ]
  },
  {
   "cell_type": "code",
   "execution_count": 3,
   "metadata": {},
   "outputs": [
    {
     "name": "stdout",
     "output_type": "stream",
     "text": [
      "tensor([[0.2683, 0.2824, 0.4194, 0.7778, 0.8538],\n",
      "        [0.7725, 0.4066, 0.9469, 0.8262, 0.0526]])\n"
     ]
    }
   ],
   "source": [
    "y = torch.rand([2,5])\n",
    "print(y)"
   ]
  },
  {
   "cell_type": "code",
   "execution_count": 4,
   "metadata": {},
   "outputs": [
    {
     "name": "stdout",
     "output_type": "stream",
     "text": [
      "tensor([[0.2683, 0.2824, 0.4194, 0.7778, 0.8538, 0.7725, 0.4066, 0.9469, 0.8262,\n",
      "         0.0526]])\n"
     ]
    }
   ],
   "source": [
    "# lets say we want to flatten a Tensor since we cant give input such as [2,5]. We must flatten it.\n",
    "y = y.view([1,10])  #flattened\n",
    "print(y)"
   ]
  },
  {
   "cell_type": "markdown",
   "metadata": {},
   "source": [
    "SECOND STAGE STARTS - DATA"
   ]
  },
  {
   "cell_type": "code",
   "execution_count": 5,
   "metadata": {},
   "outputs": [],
   "source": [
    "import torchvision\n",
    "from torchvision import transforms, datasets"
   ]
  },
  {
   "cell_type": "code",
   "execution_count": 6,
   "metadata": {},
   "outputs": [],
   "source": [
    "train = datasets.MNIST(\"\", train = True, download = True,\n",
    "                        transform=transforms.Compose([transforms.ToTensor()])) #convert it to Tensor\n",
    "test =  datasets.MNIST(\"\", train = False, download = True,\n",
    "                        transform=transforms.Compose([transforms.ToTensor()]))"
   ]
  },
  {
   "cell_type": "code",
   "execution_count": 7,
   "metadata": {},
   "outputs": [],
   "source": [
    "trainset = torch.utils.data.DataLoader(train, batch_size = 10, shuffle = True)\n",
    "testset = torch.utils.data.DataLoader(test, batch_size = 10, shuffle = True)"
   ]
  },
  {
   "cell_type": "code",
   "execution_count": 28,
   "metadata": {},
   "outputs": [
    {
     "name": "stdout",
     "output_type": "stream",
     "text": [
      "[tensor([[[[0., 0., 0.,  ..., 0., 0., 0.],\n",
      "          [0., 0., 0.,  ..., 0., 0., 0.],\n",
      "          [0., 0., 0.,  ..., 0., 0., 0.],\n",
      "          ...,\n",
      "          [0., 0., 0.,  ..., 0., 0., 0.],\n",
      "          [0., 0., 0.,  ..., 0., 0., 0.],\n",
      "          [0., 0., 0.,  ..., 0., 0., 0.]]],\n",
      "\n",
      "\n",
      "        [[[0., 0., 0.,  ..., 0., 0., 0.],\n",
      "          [0., 0., 0.,  ..., 0., 0., 0.],\n",
      "          [0., 0., 0.,  ..., 0., 0., 0.],\n",
      "          ...,\n",
      "          [0., 0., 0.,  ..., 0., 0., 0.],\n",
      "          [0., 0., 0.,  ..., 0., 0., 0.],\n",
      "          [0., 0., 0.,  ..., 0., 0., 0.]]],\n",
      "\n",
      "\n",
      "        [[[0., 0., 0.,  ..., 0., 0., 0.],\n",
      "          [0., 0., 0.,  ..., 0., 0., 0.],\n",
      "          [0., 0., 0.,  ..., 0., 0., 0.],\n",
      "          ...,\n",
      "          [0., 0., 0.,  ..., 0., 0., 0.],\n",
      "          [0., 0., 0.,  ..., 0., 0., 0.],\n",
      "          [0., 0., 0.,  ..., 0., 0., 0.]]],\n",
      "\n",
      "\n",
      "        ...,\n",
      "\n",
      "\n",
      "        [[[0., 0., 0.,  ..., 0., 0., 0.],\n",
      "          [0., 0., 0.,  ..., 0., 0., 0.],\n",
      "          [0., 0., 0.,  ..., 0., 0., 0.],\n",
      "          ...,\n",
      "          [0., 0., 0.,  ..., 0., 0., 0.],\n",
      "          [0., 0., 0.,  ..., 0., 0., 0.],\n",
      "          [0., 0., 0.,  ..., 0., 0., 0.]]],\n",
      "\n",
      "\n",
      "        [[[0., 0., 0.,  ..., 0., 0., 0.],\n",
      "          [0., 0., 0.,  ..., 0., 0., 0.],\n",
      "          [0., 0., 0.,  ..., 0., 0., 0.],\n",
      "          ...,\n",
      "          [0., 0., 0.,  ..., 0., 0., 0.],\n",
      "          [0., 0., 0.,  ..., 0., 0., 0.],\n",
      "          [0., 0., 0.,  ..., 0., 0., 0.]]],\n",
      "\n",
      "\n",
      "        [[[0., 0., 0.,  ..., 0., 0., 0.],\n",
      "          [0., 0., 0.,  ..., 0., 0., 0.],\n",
      "          [0., 0., 0.,  ..., 0., 0., 0.],\n",
      "          ...,\n",
      "          [0., 0., 0.,  ..., 0., 0., 0.],\n",
      "          [0., 0., 0.,  ..., 0., 0., 0.],\n",
      "          [0., 0., 0.,  ..., 0., 0., 0.]]]]), tensor([1, 3, 6, 0, 3, 4, 1, 6, 6, 7])]\n"
     ]
    }
   ],
   "source": [
    "# lets iterate over trainset\n",
    "for data in trainset:\n",
    "    print(data)  #10 examples of handwritten digits (batch size) and 10 tensor outputs (they represent the digits)\n",
    "    break"
   ]
  },
  {
   "cell_type": "code",
   "execution_count": 31,
   "metadata": {},
   "outputs": [
    {
     "name": "stdout",
     "output_type": "stream",
     "text": [
      "tensor(1)\n"
     ]
    }
   ],
   "source": [
    "x, y = data[0][0] , data[1][0] # first image, its output\n",
    "print(y)"
   ]
  },
  {
   "cell_type": "code",
   "execution_count": 10,
   "metadata": {},
   "outputs": [
    {
     "name": "stdout",
     "output_type": "stream",
     "text": [
      "torch.Size([1, 28, 28])\n"
     ]
    },
    {
     "data": {
      "text/plain": [
       "<matplotlib.image.AxesImage at 0x12fd28fd0>"
      ]
     },
     "execution_count": 10,
     "metadata": {},
     "output_type": "execute_result"
    },
    {
     "data": {
      "image/png": "[encoded data removed]",
      "text/plain": [
       "<Figure size 432x288 with 1 Axes>"
      ]
     },
     "metadata": {
      "needs_background": "light"
     },
     "output_type": "display_data"
    }
   ],
   "source": [
    "import matplotlib.pyplot as plt\n",
    "print(data[0][0].shape)  # not suitable for visualizing\n",
    "plt.imshow(data[0][0].view(28,28)) # change the shape"
   ]
  },
  {
   "cell_type": "code",
   "execution_count": 11,
   "metadata": {},
   "outputs": [
    {
     "name": "stdout",
     "output_type": "stream",
     "text": [
      "{0: 5923, 1: 6742, 2: 5958, 3: 6131, 4: 5842, 5: 5421, 6: 5918, 7: 6265, 8: 5851, 9: 5949}\n"
     ]
    }
   ],
   "source": [
    "#check if this is an imbalanced dataset, count values using counter dictionary, keys represent outputs, values represent the count\n",
    "from itertools import count\n",
    "\n",
    "total = 0\n",
    "counter_dict = {0:0, 1:0, 2:0, 3:0, 4:0, 5:0, 6:0, 7:0, 8:0, 9:0}\n",
    "\n",
    "for data in trainset:\n",
    "    Xs, ys = data\n",
    "    for y in ys:\n",
    "        counter_dict[int(y)] += 1\n",
    "        total += 1\n",
    "print(counter_dict)"
   ]
  },
  {
   "cell_type": "code",
   "execution_count": 12,
   "metadata": {},
   "outputs": [
    {
     "name": "stdout",
     "output_type": "stream",
     "text": [
      "0: 9.871666666666666\n",
      "1: 11.236666666666666\n",
      "2: 9.93\n",
      "3: 10.218333333333334\n",
      "4: 9.736666666666666\n",
      "5: 9.035\n",
      "6: 9.863333333333333\n",
      "7: 10.441666666666666\n",
      "8: 9.751666666666667\n",
      "9: 9.915000000000001\n"
     ]
    }
   ],
   "source": [
    "# to get the percentages\n",
    "for i in counter_dict:\n",
    "    print(f\"{i}: {counter_dict[i]/total*100}\")  #it seems balanced dataset"
   ]
  },
  {
   "cell_type": "markdown",
   "metadata": {},
   "source": [
    "STAGE 3 STARTS - BUILDING NEURAL NETWORK"
   ]
  },
  {
   "cell_type": "code",
   "execution_count": 13,
   "metadata": {},
   "outputs": [],
   "source": [
    "import torch.nn as nn\n",
    "import torch.nn.functional as F  #these two things are very similar"
   ]
  },
  {
   "cell_type": "code",
   "execution_count": 14,
   "metadata": {},
   "outputs": [
    {
     "name": "stdout",
     "output_type": "stream",
     "text": [
      "Net(\n",
      "  (fc1): Linear(in_features=784, out_features=64, bias=True)\n",
      "  (fc2): Linear(in_features=64, out_features=64, bias=True)\n",
      "  (fc3): Linear(in_features=64, out_features=64, bias=True)\n",
      "  (fc4): Linear(in_features=64, out_features=10, bias=True)\n",
      ")\n"
     ]
    }
   ],
   "source": [
    "class Net(nn.Module):\n",
    "\n",
    "    def __init__(self):\n",
    "        super().__init__()  # super corresponds to nn.module inherit init\n",
    "        self.fc1 = nn.Linear(28*28, 64) # input size, output size\n",
    "        self.fc2 = nn.Linear(64, 64) \n",
    "        self.fc3 = nn.Linear(64, 64) \n",
    "        self.fc4 = nn.Linear(64, 10) # we have 10 classes\n",
    "    \n",
    "    def forward(self,x):  #how the data will flow through the network?\n",
    "         x = F.relu(self.fc1(x))  # x passes through fc1, relu is the activation function\n",
    "         x = F.relu(self.fc2(x))\n",
    "         x = F.relu(self.fc3(x))\n",
    "         x = self.fc4(x)\n",
    "         #you can insert if,elif, and else here\n",
    "\n",
    "         return F.log_softmax(x, dim=1) \n",
    "\n",
    "net = Net()\n",
    "print(net)"
   ]
  },
  {
   "cell_type": "code",
   "execution_count": 15,
   "metadata": {},
   "outputs": [
    {
     "data": {
      "text/plain": [
       "tensor([[3.9168e-01, 6.2544e-01, 6.3816e-01, 6.9090e-01, 8.8103e-01, 3.1751e-01,\n",
       "         5.1337e-01, 8.4888e-01, 6.8696e-01, 8.0738e-01, 4.3766e-01, 8.6044e-01,\n",
       "         2.4123e-01, 9.7839e-01, 6.1964e-01, 2.9520e-01, 9.2732e-01, 9.8295e-01,\n",
       "         7.8063e-01, 4.2812e-01, 7.9855e-01, 4.4886e-01, 1.1684e-01, 4.7033e-01,\n",
       "         1.9934e-02, 7.6687e-02, 6.5674e-01, 6.4605e-01],\n",
       "        [4.4360e-01, 2.3020e-01, 9.5998e-01, 4.0845e-02, 2.2815e-01, 8.1841e-01,\n",
       "         9.5970e-01, 6.5290e-01, 5.8361e-02, 6.9406e-01, 2.6632e-01, 5.5399e-01,\n",
       "         7.7287e-01, 2.5812e-01, 7.8319e-01, 2.0831e-01, 1.9082e-01, 4.2450e-01,\n",
       "         4.9026e-01, 5.9926e-01, 6.9222e-01, 7.6015e-02, 4.2663e-01, 2.0250e-01,\n",
       "         8.7123e-01, 1.6299e-01, 5.3679e-03, 5.8336e-01],\n",
       "        [1.8591e-01, 3.6118e-01, 8.1141e-01, 1.6246e-02, 6.3969e-01, 7.2126e-01,\n",
       "         5.6313e-01, 2.6382e-01, 1.3321e-01, 6.3754e-01, 4.5354e-01, 1.2221e-01,\n",
       "         2.2849e-02, 4.2159e-01, 9.7971e-01, 8.4652e-01, 9.7894e-01, 2.5806e-01,\n",
       "         9.5342e-01, 9.9649e-01, 8.7327e-01, 1.0292e-01, 2.4539e-01, 7.5830e-02,\n",
       "         9.9086e-01, 5.5236e-01, 3.7090e-01, 3.2511e-01],\n",
       "        [2.6778e-01, 8.6584e-01, 5.9976e-02, 9.2306e-01, 8.6177e-01, 9.9275e-01,\n",
       "         8.2822e-01, 2.4871e-01, 9.6490e-01, 9.7936e-02, 3.1863e-01, 3.4793e-02,\n",
       "         2.9095e-01, 4.3011e-02, 3.8667e-02, 3.6653e-01, 6.2880e-01, 5.7656e-01,\n",
       "         2.4404e-01, 7.6440e-01, 6.2117e-01, 1.6274e-01, 5.8312e-01, 4.5164e-02,\n",
       "         3.9890e-01, 1.3491e-01, 8.1578e-01, 4.2907e-01],\n",
       "        [8.9426e-01, 6.4927e-01, 4.8600e-01, 4.3282e-01, 2.5024e-01, 5.7518e-01,\n",
       "         8.5878e-01, 4.9900e-02, 4.1162e-01, 5.7382e-01, 8.1470e-01, 8.4971e-01,\n",
       "         9.2481e-01, 2.5796e-01, 6.4503e-01, 2.5632e-01, 6.2497e-01, 4.8231e-01,\n",
       "         7.9632e-01, 8.1366e-01, 8.0492e-02, 3.8957e-01, 6.7581e-01, 1.9430e-01,\n",
       "         9.9585e-01, 8.5032e-01, 3.3849e-01, 1.0652e-01],\n",
       "        [6.3631e-01, 5.9779e-01, 8.1683e-01, 2.5486e-01, 2.9460e-01, 6.6428e-01,\n",
       "         3.7358e-01, 8.0984e-01, 3.4566e-01, 3.4878e-01, 1.4435e-01, 6.3655e-01,\n",
       "         5.0474e-01, 6.7665e-01, 2.7105e-02, 6.2982e-01, 3.1809e-01, 1.0983e-01,\n",
       "         3.7725e-01, 3.1986e-01, 2.9119e-01, 1.7882e-01, 9.1112e-01, 1.3385e-01,\n",
       "         1.1439e-01, 8.4244e-01, 5.6449e-01, 4.8190e-01],\n",
       "        [3.2658e-01, 9.0404e-01, 8.6836e-02, 3.4553e-01, 3.5597e-01, 7.7333e-01,\n",
       "         7.0769e-02, 5.0616e-01, 6.5531e-01, 8.6201e-01, 3.9913e-01, 4.8951e-01,\n",
       "         7.7597e-01, 2.9262e-01, 8.2676e-01, 6.6445e-01, 9.5751e-01, 2.8791e-01,\n",
       "         5.9823e-01, 9.2360e-01, 2.9019e-01, 3.5999e-01, 5.0125e-01, 1.4502e-01,\n",
       "         4.1361e-01, 3.8490e-01, 3.1455e-01, 4.8494e-01],\n",
       "        [2.0959e-01, 4.0375e-01, 8.1937e-01, 2.2451e-01, 6.4562e-01, 3.3580e-01,\n",
       "         6.0394e-01, 6.1962e-02, 3.6435e-01, 8.3204e-01, 8.8248e-01, 7.3913e-01,\n",
       "         5.3139e-01, 8.0916e-03, 4.0197e-01, 5.6851e-01, 3.1233e-01, 6.9308e-01,\n",
       "         6.5962e-01, 2.9673e-01, 5.4446e-01, 7.5266e-01, 7.1653e-01, 4.1882e-01,\n",
       "         7.0325e-01, 8.9244e-01, 4.1115e-01, 7.5106e-01],\n",
       "        [3.8512e-01, 7.0352e-01, 4.6874e-01, 4.9566e-02, 6.1112e-01, 5.3487e-01,\n",
       "         7.7981e-01, 4.7199e-01, 4.9853e-01, 1.4526e-01, 4.9797e-01, 6.8205e-01,\n",
       "         3.1191e-01, 1.3453e-01, 6.4546e-01, 8.0051e-01, 6.6275e-02, 3.4441e-01,\n",
       "         8.6765e-01, 6.7996e-01, 5.9308e-01, 7.5779e-01, 6.4655e-02, 6.4327e-01,\n",
       "         4.9849e-01, 6.3054e-01, 5.6929e-01, 2.0367e-01],\n",
       "        [9.4100e-01, 1.5920e-01, 3.4795e-01, 4.6485e-01, 2.9319e-01, 8.3983e-01,\n",
       "         4.3555e-01, 6.3585e-01, 7.9726e-01, 8.5619e-01, 7.0451e-01, 2.4038e-01,\n",
       "         6.7219e-01, 8.1057e-01, 4.4132e-01, 3.7585e-02, 3.4407e-01, 4.7280e-01,\n",
       "         7.6873e-01, 2.3943e-01, 6.2650e-01, 3.9580e-01, 4.7169e-01, 1.3908e-02,\n",
       "         7.5857e-01, 8.1208e-01, 6.1098e-01, 8.9455e-02],\n",
       "        [3.4032e-01, 1.7208e-01, 7.3257e-01, 3.1741e-02, 1.5464e-01, 7.8276e-01,\n",
       "         3.4570e-01, 3.1244e-01, 2.1363e-01, 3.1954e-01, 1.8999e-01, 3.1935e-02,\n",
       "         6.3613e-01, 5.1044e-01, 1.1682e-01, 2.8411e-01, 4.3194e-01, 3.6138e-02,\n",
       "         8.0656e-01, 6.8239e-01, 6.8438e-04, 6.8807e-01, 4.9471e-01, 5.4511e-01,\n",
       "         8.4784e-01, 5.4856e-01, 8.9702e-01, 6.8172e-01],\n",
       "        [9.8426e-01, 4.4233e-01, 4.0760e-01, 8.2396e-01, 2.2966e-01, 5.3214e-02,\n",
       "         3.1720e-01, 7.7610e-01, 8.1046e-01, 5.8082e-01, 5.0830e-01, 2.4606e-01,\n",
       "         4.5133e-01, 7.5269e-01, 9.5669e-01, 6.8382e-01, 6.3129e-01, 8.0154e-01,\n",
       "         1.8223e-01, 7.3183e-01, 1.7410e-01, 3.6604e-01, 1.8965e-01, 5.4129e-01,\n",
       "         7.8646e-01, 5.6983e-01, 6.4870e-01, 9.7073e-01],\n",
       "        [9.5233e-01, 2.8215e-01, 8.7000e-01, 5.4707e-01, 5.3930e-01, 2.0633e-01,\n",
       "         6.7873e-02, 1.8013e-01, 5.7817e-01, 7.1104e-01, 1.0849e-02, 3.2650e-01,\n",
       "         8.5860e-02, 8.2309e-01, 3.0448e-02, 7.9294e-01, 8.2123e-01, 2.7249e-01,\n",
       "         4.4583e-01, 4.6541e-01, 1.1782e-01, 8.2659e-01, 9.3785e-01, 2.9951e-01,\n",
       "         8.1146e-01, 6.7942e-01, 2.5111e-01, 9.5792e-01],\n",
       "        [1.1105e-01, 9.9357e-01, 3.4988e-01, 4.9928e-01, 9.5921e-01, 3.1251e-01,\n",
       "         9.9961e-01, 3.5641e-01, 1.0420e-01, 1.6965e-01, 3.8544e-01, 9.6571e-02,\n",
       "         7.6155e-01, 2.2489e-01, 6.4083e-01, 4.6946e-01, 4.0233e-01, 1.7705e-01,\n",
       "         7.7585e-01, 8.3496e-01, 1.1038e-01, 2.4934e-01, 7.2947e-01, 3.9671e-01,\n",
       "         8.5047e-01, 5.6260e-01, 4.8866e-01, 5.1761e-02],\n",
       "        [4.0305e-01, 5.4925e-01, 3.0704e-03, 1.3354e-01, 6.5322e-01, 8.9156e-01,\n",
       "         7.3924e-01, 3.4981e-01, 4.6906e-01, 9.2856e-01, 8.4637e-01, 8.1361e-01,\n",
       "         1.0413e-01, 7.8914e-01, 4.8550e-01, 8.5205e-01, 5.8944e-02, 8.8419e-01,\n",
       "         1.3226e-01, 1.6236e-01, 6.2753e-01, 5.0159e-01, 6.5868e-01, 7.0430e-01,\n",
       "         8.3789e-01, 8.9033e-01, 4.6936e-01, 5.6097e-01],\n",
       "        [9.4475e-01, 9.1246e-01, 6.4699e-01, 8.2099e-02, 8.9278e-01, 8.4950e-01,\n",
       "         5.7804e-01, 8.6541e-01, 8.6814e-01, 9.5226e-01, 1.3999e-01, 8.4947e-01,\n",
       "         2.7311e-01, 6.8304e-01, 7.0524e-01, 6.8659e-01, 7.3849e-01, 1.7215e-01,\n",
       "         6.2619e-01, 6.7328e-01, 2.9838e-01, 1.8366e-01, 6.6731e-01, 6.0860e-01,\n",
       "         2.1782e-01, 5.5357e-01, 4.9473e-01, 4.6352e-01],\n",
       "        [1.5647e-01, 1.7716e-01, 7.5398e-01, 4.2515e-01, 1.6338e-01, 2.8912e-01,\n",
       "         2.4965e-01, 5.4215e-01, 6.4212e-01, 9.7795e-03, 1.0050e-02, 7.6033e-01,\n",
       "         6.7620e-02, 3.7558e-01, 2.6876e-01, 1.1518e-01, 3.3325e-02, 5.9590e-01,\n",
       "         2.3860e-02, 7.1976e-01, 7.3119e-01, 1.9899e-01, 8.6509e-01, 9.9088e-01,\n",
       "         7.8886e-01, 6.8028e-01, 3.8088e-01, 8.0780e-01],\n",
       "        [4.0378e-01, 6.4995e-01, 8.4426e-01, 3.2309e-02, 9.7605e-01, 7.0169e-01,\n",
       "         9.7400e-01, 7.1869e-01, 4.4495e-01, 7.8369e-01, 7.9099e-01, 2.7356e-01,\n",
       "         6.8108e-01, 1.8832e-01, 9.8325e-01, 6.7664e-01, 4.1184e-01, 5.0929e-01,\n",
       "         3.4038e-02, 8.6493e-02, 9.5868e-01, 9.7907e-01, 5.7881e-02, 8.9356e-02,\n",
       "         5.6300e-01, 2.5933e-01, 2.3358e-01, 6.8942e-01],\n",
       "        [8.6291e-01, 8.8318e-01, 3.3291e-01, 3.1229e-01, 1.4644e-02, 3.0036e-01,\n",
       "         9.0613e-01, 3.6769e-01, 9.1241e-01, 9.2325e-01, 8.6288e-01, 9.4613e-01,\n",
       "         5.8875e-01, 3.0274e-01, 6.5039e-01, 2.3146e-01, 1.4386e-01, 7.0930e-02,\n",
       "         8.6847e-01, 5.4661e-01, 4.6548e-01, 3.2298e-01, 8.9001e-01, 5.1149e-01,\n",
       "         7.9008e-01, 6.2435e-01, 7.7345e-01, 2.8204e-01],\n",
       "        [2.5416e-01, 1.2992e-02, 2.0336e-01, 2.0200e-01, 6.3919e-01, 4.1292e-01,\n",
       "         8.1392e-01, 7.9158e-02, 9.0547e-02, 7.0558e-01, 7.6712e-01, 6.6918e-01,\n",
       "         6.1914e-01, 7.6290e-02, 8.8628e-01, 6.0756e-01, 5.5617e-01, 3.3198e-01,\n",
       "         5.7357e-01, 8.5190e-01, 3.0602e-01, 1.2293e-01, 1.6999e-01, 3.3977e-01,\n",
       "         7.8777e-01, 7.3948e-01, 3.6864e-02, 2.7004e-01],\n",
       "        [2.5150e-01, 1.4237e-01, 7.1087e-01, 5.5157e-01, 4.5134e-01, 5.0715e-01,\n",
       "         4.4626e-01, 6.6251e-01, 3.4665e-01, 2.3601e-01, 5.6354e-01, 1.8908e-01,\n",
       "         9.3541e-01, 8.6875e-01, 8.9597e-01, 7.6323e-01, 2.9674e-01, 5.3733e-01,\n",
       "         5.5578e-01, 3.2344e-01, 5.5846e-01, 6.1073e-01, 4.3760e-01, 8.6942e-01,\n",
       "         1.3242e-01, 7.5973e-01, 9.9474e-01, 7.5024e-01],\n",
       "        [9.7340e-01, 4.8397e-01, 4.3104e-01, 7.0278e-01, 3.6726e-01, 6.4986e-01,\n",
       "         9.9154e-02, 8.7172e-01, 2.6522e-01, 7.4485e-02, 5.9825e-01, 6.6859e-01,\n",
       "         4.9176e-01, 6.2533e-01, 6.0439e-01, 3.1724e-01, 7.1468e-01, 3.3123e-01,\n",
       "         3.6906e-01, 8.8628e-01, 2.2010e-01, 6.1972e-01, 8.5945e-01, 3.9892e-01,\n",
       "         9.2945e-01, 7.6177e-02, 9.6543e-01, 8.6733e-02],\n",
       "        [2.3230e-01, 9.0580e-01, 1.7250e-01, 2.1182e-01, 1.2804e-01, 4.6024e-01,\n",
       "         4.1304e-01, 3.3255e-01, 1.2861e-02, 1.8246e-01, 2.0292e-02, 4.6614e-01,\n",
       "         5.9746e-01, 3.5624e-01, 8.1592e-01, 3.4193e-01, 4.1886e-01, 9.3394e-01,\n",
       "         8.2400e-01, 5.4339e-01, 6.5198e-01, 7.0099e-01, 6.4357e-01, 4.3959e-01,\n",
       "         5.7888e-01, 8.1350e-01, 1.4949e-01, 6.3963e-01],\n",
       "        [8.6510e-01, 1.5736e-01, 8.3843e-01, 9.4698e-01, 3.3031e-01, 3.5016e-01,\n",
       "         7.4194e-02, 7.6748e-01, 2.2067e-01, 9.4511e-01, 1.9208e-02, 8.8637e-01,\n",
       "         1.9758e-01, 2.4670e-01, 7.0014e-02, 5.5864e-01, 6.0162e-01, 3.5056e-01,\n",
       "         6.4707e-01, 4.8932e-01, 3.3372e-01, 4.9681e-01, 9.0578e-02, 1.9399e-01,\n",
       "         6.5546e-02, 6.4516e-01, 1.5394e-01, 5.4206e-02],\n",
       "        [7.1988e-01, 9.1804e-02, 7.8300e-01, 3.7728e-01, 4.4119e-01, 6.7200e-01,\n",
       "         3.8036e-01, 9.2174e-01, 1.0637e-01, 8.4974e-01, 3.6980e-01, 9.5493e-01,\n",
       "         2.8410e-01, 6.9663e-01, 3.7660e-01, 6.1244e-01, 1.5228e-01, 7.7979e-01,\n",
       "         1.4855e-02, 1.9375e-01, 4.4442e-01, 4.8077e-01, 1.3006e-01, 4.7643e-01,\n",
       "         4.4080e-01, 6.4215e-01, 9.5653e-01, 4.8808e-01],\n",
       "        [1.4527e-01, 9.3268e-01, 8.0852e-01, 4.9189e-02, 4.9314e-01, 4.7840e-01,\n",
       "         9.1030e-01, 7.4292e-01, 4.1041e-01, 1.3872e-01, 9.4814e-02, 2.1192e-02,\n",
       "         7.0866e-02, 4.5832e-01, 7.3711e-01, 1.4703e-01, 9.9622e-01, 7.2956e-01,\n",
       "         5.9282e-01, 2.1179e-01, 7.0924e-02, 9.4318e-01, 4.8117e-01, 3.1754e-01,\n",
       "         5.9642e-01, 4.3467e-01, 2.3521e-01, 9.9972e-01],\n",
       "        [9.5019e-02, 8.3419e-01, 2.9150e-01, 1.5247e-01, 1.0115e-01, 5.0616e-01,\n",
       "         9.2453e-01, 6.3888e-01, 2.1399e-01, 8.8083e-01, 3.4632e-01, 2.9493e-01,\n",
       "         7.2043e-01, 3.4889e-01, 2.8073e-01, 8.5400e-01, 8.1814e-02, 1.1433e-01,\n",
       "         5.9618e-01, 7.3502e-01, 5.6712e-01, 9.9462e-01, 5.1653e-01, 5.6738e-01,\n",
       "         5.9244e-01, 2.7841e-01, 5.7150e-01, 2.4167e-01],\n",
       "        [8.2465e-01, 1.5456e-01, 1.5558e-01, 9.7242e-01, 9.1562e-01, 8.4842e-01,\n",
       "         8.7037e-01, 1.6693e-01, 1.1712e-01, 2.6853e-01, 8.1381e-01, 3.1264e-03,\n",
       "         6.2023e-01, 2.9169e-02, 7.1988e-01, 1.2687e-01, 2.6123e-01, 9.1346e-01,\n",
       "         4.1340e-01, 5.4235e-01, 5.4094e-01, 3.9980e-01, 1.9125e-01, 2.4251e-01,\n",
       "         8.7032e-01, 2.2220e-01, 3.5608e-01, 5.3276e-01]])"
      ]
     },
     "execution_count": 15,
     "metadata": {},
     "output_type": "execute_result"
    }
   ],
   "source": [
    "# pass some data through the neural network\n",
    "X = torch.rand((28,28))\n",
    "X"
   ]
  },
  {
   "cell_type": "code",
   "execution_count": 16,
   "metadata": {},
   "outputs": [
    {
     "name": "stdout",
     "output_type": "stream",
     "text": [
      "tensor([[-2.3615, -2.3141, -2.3626, -2.1644, -2.3402, -2.3255, -2.2435, -2.3666,\n",
      "         -2.3628, -2.2092]], grad_fn=<LogSoftmaxBackward0>)\n"
     ]
    }
   ],
   "source": [
    "output = net(X.view(-1,28*28)) # 1 or -1 mean the given parameter can be any size\n",
    "print(output)"
   ]
  },
  {
   "cell_type": "markdown",
   "metadata": {},
   "source": [
    "FORTH STAGE STARTS HERE - TRAINING MODEL"
   ]
  },
  {
   "cell_type": "code",
   "execution_count": 17,
   "metadata": {},
   "outputs": [
    {
     "name": "stdout",
     "output_type": "stream",
     "text": [
      "Adam (\n",
      "Parameter Group 0\n",
      "    amsgrad: False\n",
      "    betas: (0.9, 0.999)\n",
      "    capturable: False\n",
      "    eps: 1e-08\n",
      "    foreach: None\n",
      "    lr: 0.001\n",
      "    maximize: False\n",
      "    weight_decay: 0\n",
      ")\n",
      "tensor(0.7108, grad_fn=<NllLossBackward0>)\n",
      "tensor(0.0004, grad_fn=<NllLossBackward0>)\n",
      "tensor(0.0255, grad_fn=<NllLossBackward0>)\n"
     ]
    }
   ],
   "source": [
    "import torch.optim as optim\n",
    "\n",
    "optimizer = optim.Adam(net.parameters(), lr = 0.001)\n",
    "print(optimizer)\n",
    "\n",
    "EPOCHS = 3\n",
    "\n",
    "for epoch in range(EPOCHS):\n",
    "    for data in trainset:\n",
    "        # data is a batch of featuresets and labels\n",
    "        X, y = data \n",
    "        net.zero_grad() # batch our data: decrease the training time\n",
    "        output = net(X.view(-1,28*28))  #insert input and get the output\n",
    "        loss = F.nll_loss(output, y)  #calculate loss, negative likelihood : cross entropy\n",
    "        loss.backward()   #backpropagation\n",
    "        optimizer.step()\n",
    "    print(loss) # with 3 epochs, the loss is going down"
   ]
  },
  {
   "cell_type": "code",
   "execution_count": 18,
   "metadata": {},
   "outputs": [
    {
     "name": "stdout",
     "output_type": "stream",
     "text": [
      "Accuracy: 0.969\n"
     ]
    }
   ],
   "source": [
    "#validation\n",
    "correct = 0\n",
    "total = 0\n",
    "with torch.no_grad():  #no gradient, do not optimize, for test data\n",
    "    for data in testset:\n",
    "        X, y = data\n",
    "        output = net(X.view(-1, 28*28))\n",
    "        for idx, i in enumerate(output):\n",
    "            if torch.argmax(i) == y[idx]:\n",
    "                correct += 1\n",
    "            total += 1\n",
    "print(\"Accuracy:\", round(correct/total, 3))"
   ]
  },
  {
   "cell_type": "code",
   "execution_count": 19,
   "metadata": {},
   "outputs": [
    {
     "name": "stdout",
     "output_type": "stream",
     "text": [
      "torch.Size([1, 28, 28])\n"
     ]
    },
    {
     "data": {
      "image/png": "[encoded data removed]",
      "text/plain": [
       "<Figure size 432x288 with 1 Axes>"
      ]
     },
     "metadata": {
      "needs_background": "light"
     },
     "output_type": "display_data"
    }
   ],
   "source": [
    "print(X[6].shape)\n",
    "plt.imshow(X[6].view(28,28))\n",
    "plt.show()"
   ]
  },
  {
   "cell_type": "code",
   "execution_count": 20,
   "metadata": {},
   "outputs": [
    {
     "name": "stdout",
     "output_type": "stream",
     "text": [
      "tensor(1)\n"
     ]
    }
   ],
   "source": [
    "print(torch.argmax(net(X[6].view(-1,28*28))))  #the prediction is right"
   ]
  },
  {
   "cell_type": "markdown",
   "metadata": {},
   "source": [
    "FIFTH STAGE STARTS HERE - CONVOLUTIONAL NEURAL NETWORK INTRO"
   ]
  },
  {
   "cell_type": "code",
   "execution_count": 21,
   "metadata": {},
   "outputs": [
    {
     "name": "stdout",
     "output_type": "stream",
     "text": [
      "PetImages/Cat\n"
     ]
    },
    {
     "name": "stderr",
     "output_type": "stream",
     "text": [
      "  4%|▍         | 517/12501 [00:00<00:11, 1083.88it/s]"
     ]
    },
    {
     "name": "stdout",
     "output_type": "stream",
     "text": [
      "OpenCV(4.6.0) /Users/xperience/actions-runner/_work/opencv-python/opencv-python/opencv/modules/imgproc/src/resize.cpp:4052: error: (-215:Assertion failed) !ssize.empty() in function 'resize'\n",
      "\n"
     ]
    },
    {
     "name": "stderr",
     "output_type": "stream",
     "text": [
      " 13%|█▎        | 1569/12501 [00:01<00:09, 1158.23it/s]"
     ]
    },
    {
     "name": "stdout",
     "output_type": "stream",
     "text": [
      "OpenCV(4.6.0) /Users/xperience/actions-runner/_work/opencv-python/opencv-python/opencv/modules/imgproc/src/resize.cpp:4052: error: (-215:Assertion failed) !ssize.empty() in function 'resize'\n",
      "\n"
     ]
    },
    {
     "name": "stderr",
     "output_type": "stream",
     "text": [
      " 15%|█▌        | 1913/12501 [00:01<00:09, 1108.37it/s]"
     ]
    },
    {
     "name": "stdout",
     "output_type": "stream",
     "text": [
      "OpenCV(4.6.0) /Users/xperience/actions-runner/_work/opencv-python/opencv-python/opencv/modules/imgproc/src/resize.cpp:4052: error: (-215:Assertion failed) !ssize.empty() in function 'resize'\n",
      "\n"
     ]
    },
    {
     "name": "stderr",
     "output_type": "stream",
     "text": [
      " 18%|█▊        | 2257/12501 [00:02<00:09, 1129.00it/s]"
     ]
    },
    {
     "name": "stdout",
     "output_type": "stream",
     "text": [
      "OpenCV(4.6.0) /Users/xperience/actions-runner/_work/opencv-python/opencv-python/opencv/modules/imgproc/src/resize.cpp:4052: error: (-215:Assertion failed) !ssize.empty() in function 'resize'\n",
      "\n"
     ]
    },
    {
     "name": "stderr",
     "output_type": "stream",
     "text": [
      " 19%|█▉        | 2377/12501 [00:02<00:08, 1147.63it/s]Corrupt JPEG data: 214 extraneous bytes before marker 0xd9\n",
      " 21%|██        | 2609/12501 [00:02<00:08, 1147.34it/s]"
     ]
    },
    {
     "name": "stdout",
     "output_type": "stream",
     "text": [
      "OpenCV(4.6.0) /Users/xperience/actions-runner/_work/opencv-python/opencv-python/opencv/modules/imgproc/src/resize.cpp:4052: error: (-215:Assertion failed) !ssize.empty() in function 'resize'\n",
      "\n",
      "OpenCV(4.6.0) /Users/xperience/actions-runner/_work/opencv-python/opencv-python/opencv/modules/imgproc/src/resize.cpp:4052: error: (-215:Assertion failed) !ssize.empty() in function 'resize'\n",
      "\n"
     ]
    },
    {
     "name": "stderr",
     "output_type": "stream",
     "text": [
      " 27%|██▋       | 3321/12501 [00:02<00:08, 1102.48it/s]"
     ]
    },
    {
     "name": "stdout",
     "output_type": "stream",
     "text": [
      "OpenCV(4.6.0) /Users/xperience/actions-runner/_work/opencv-python/opencv-python/opencv/modules/imgproc/src/resize.cpp:4052: error: (-215:Assertion failed) !ssize.empty() in function 'resize'\n",
      "\n",
      "OpenCV(4.6.0) /Users/xperience/actions-runner/_work/opencv-python/opencv-python/opencv/modules/imgproc/src/resize.cpp:4052: error: (-215:Assertion failed) !ssize.empty() in function 'resize'\n",
      "\n"
     ]
    },
    {
     "name": "stderr",
     "output_type": "stream",
     "text": [
      " 30%|███       | 3755/12501 [00:03<00:08, 1046.43it/s]"
     ]
    },
    {
     "name": "stdout",
     "output_type": "stream",
     "text": [
      "OpenCV(4.6.0) /Users/xperience/actions-runner/_work/opencv-python/opencv-python/opencv/modules/imgproc/src/resize.cpp:4052: error: (-215:Assertion failed) !ssize.empty() in function 'resize'\n",
      "\n",
      "OpenCV(4.6.0) /Users/xperience/actions-runner/_work/opencv-python/opencv-python/opencv/modules/imgproc/src/resize.cpp:4052: error: (-215:Assertion failed) !ssize.empty() in function 'resize'\n",
      "\n"
     ]
    },
    {
     "name": "stderr",
     "output_type": "stream",
     "text": [
      " 32%|███▏      | 3975/12501 [00:03<00:07, 1069.68it/s]"
     ]
    },
    {
     "name": "stdout",
     "output_type": "stream",
     "text": [
      "OpenCV(4.6.0) /Users/xperience/actions-runner/_work/opencv-python/opencv-python/opencv/modules/imgproc/src/resize.cpp:4052: error: (-215:Assertion failed) !ssize.empty() in function 'resize'\n",
      "\n"
     ]
    },
    {
     "name": "stderr",
     "output_type": "stream",
     "text": [
      " 36%|███▌      | 4520/12501 [00:04<00:07, 1004.78it/s]"
     ]
    },
    {
     "name": "stdout",
     "output_type": "stream",
     "text": [
      "OpenCV(4.6.0) /Users/xperience/actions-runner/_work/opencv-python/opencv-python/opencv/modules/imgproc/src/resize.cpp:4052: error: (-215:Assertion failed) !ssize.empty() in function 'resize'\n",
      "\n"
     ]
    },
    {
     "name": "stderr",
     "output_type": "stream",
     "text": [
      " 39%|███▉      | 4854/12501 [00:04<00:07, 1075.12it/s]"
     ]
    },
    {
     "name": "stdout",
     "output_type": "stream",
     "text": [
      "OpenCV(4.6.0) /Users/xperience/actions-runner/_work/opencv-python/opencv-python/opencv/modules/imgproc/src/resize.cpp:4052: error: (-215:Assertion failed) !ssize.empty() in function 'resize'\n",
      "\n"
     ]
    },
    {
     "name": "stderr",
     "output_type": "stream",
     "text": [
      " 44%|████▍     | 5551/12501 [00:05<00:05, 1158.37it/s]"
     ]
    },
    {
     "name": "stdout",
     "output_type": "stream",
     "text": [
      "OpenCV(4.6.0) /Users/xperience/actions-runner/_work/opencv-python/opencv-python/opencv/modules/imgproc/src/resize.cpp:4052: error: (-215:Assertion failed) !ssize.empty() in function 'resize'\n",
      "\n"
     ]
    },
    {
     "name": "stderr",
     "output_type": "stream",
     "text": [
      " 51%|█████     | 6399/12501 [00:05<00:05, 1157.63it/s]"
     ]
    },
    {
     "name": "stdout",
     "output_type": "stream",
     "text": [
      "OpenCV(4.6.0) /Users/xperience/actions-runner/_work/opencv-python/opencv-python/opencv/modules/imgproc/src/resize.cpp:4052: error: (-215:Assertion failed) !ssize.empty() in function 'resize'\n",
      "\n"
     ]
    },
    {
     "name": "stderr",
     "output_type": "stream",
     "text": [
      " 53%|█████▎    | 6645/12501 [00:05<00:04, 1190.66it/s]"
     ]
    },
    {
     "name": "stdout",
     "output_type": "stream",
     "text": [
      "OpenCV(4.6.0) /Users/xperience/actions-runner/_work/opencv-python/opencv-python/opencv/modules/imgproc/src/resize.cpp:4052: error: (-215:Assertion failed) !ssize.empty() in function 'resize'\n",
      "\n",
      "OpenCV(4.6.0) /Users/xperience/actions-runner/_work/opencv-python/opencv-python/opencv/modules/imgproc/src/resize.cpp:4052: error: (-215:Assertion failed) !ssize.empty() in function 'resize'\n",
      "\n",
      "OpenCV(4.6.0) /Users/xperience/actions-runner/_work/opencv-python/opencv-python/opencv/modules/imgproc/src/resize.cpp:4052: error: (-215:Assertion failed) !ssize.empty() in function 'resize'\n",
      "\n"
     ]
    },
    {
     "name": "stderr",
     "output_type": "stream",
     "text": [
      " 58%|█████▊    | 7250/12501 [00:06<00:04, 1179.46it/s]"
     ]
    },
    {
     "name": "stdout",
     "output_type": "stream",
     "text": [
      "OpenCV(4.6.0) /Users/xperience/actions-runner/_work/opencv-python/opencv-python/opencv/modules/imgproc/src/resize.cpp:4052: error: (-215:Assertion failed) !ssize.empty() in function 'resize'\n",
      "\n",
      "OpenCV(4.6.0) /Users/xperience/actions-runner/_work/opencv-python/opencv-python/opencv/modules/imgproc/src/resize.cpp:4052: error: (-215:Assertion failed) !ssize.empty() in function 'resize'\n",
      "\n"
     ]
    },
    {
     "name": "stderr",
     "output_type": "stream",
     "text": [
      " 63%|██████▎   | 7877/12501 [00:07<00:03, 1221.58it/s]"
     ]
    },
    {
     "name": "stdout",
     "output_type": "stream",
     "text": [
      "OpenCV(4.6.0) /Users/xperience/actions-runner/_work/opencv-python/opencv-python/opencv/modules/imgproc/src/resize.cpp:4052: error: (-215:Assertion failed) !ssize.empty() in function 'resize'\n",
      "\n"
     ]
    },
    {
     "name": "stderr",
     "output_type": "stream",
     "text": [
      " 67%|██████▋   | 8378/12501 [00:07<00:03, 1237.64it/s]"
     ]
    },
    {
     "name": "stdout",
     "output_type": "stream",
     "text": [
      "OpenCV(4.6.0) /Users/xperience/actions-runner/_work/opencv-python/opencv-python/opencv/modules/imgproc/src/resize.cpp:4052: error: (-215:Assertion failed) !ssize.empty() in function 'resize'\n",
      "\n"
     ]
    },
    {
     "name": "stderr",
     "output_type": "stream",
     "text": [
      " 69%|██████▉   | 8625/12501 [00:07<00:03, 1212.65it/s]Corrupt JPEG data: 1153 extraneous bytes before marker 0xd9\n",
      " 70%|██████▉   | 8749/12501 [00:07<00:03, 1219.01it/s]"
     ]
    },
    {
     "name": "stdout",
     "output_type": "stream",
     "text": [
      "OpenCV(4.6.0) /Users/xperience/actions-runner/_work/opencv-python/opencv-python/opencv/modules/imgproc/src/resize.cpp:4052: error: (-215:Assertion failed) !ssize.empty() in function 'resize'\n",
      "\n"
     ]
    },
    {
     "name": "stderr",
     "output_type": "stream",
     "text": [
      " 75%|███████▍  | 9365/12501 [00:08<00:02, 1198.78it/s]Corrupt JPEG data: 99 extraneous bytes before marker 0xd9\n",
      " 84%|████████▎ | 10455/12501 [00:09<00:01, 1197.06it/s]"
     ]
    },
    {
     "name": "stdout",
     "output_type": "stream",
     "text": [
      "OpenCV(4.6.0) /Users/xperience/actions-runner/_work/opencv-python/opencv-python/opencv/modules/imgproc/src/resize.cpp:4052: error: (-215:Assertion failed) !ssize.empty() in function 'resize'\n",
      "\n"
     ]
    },
    {
     "name": "stderr",
     "output_type": "stream",
     "text": [
      " 86%|████████▌ | 10700/12501 [00:09<00:01, 1204.44it/s]Corrupt JPEG data: 128 extraneous bytes before marker 0xd9\n",
      " 90%|████████▉ | 11193/12501 [00:09<00:01, 1227.07it/s]Corrupt JPEG data: 239 extraneous bytes before marker 0xd9\n",
      " 92%|█████████▏| 11561/12501 [00:10<00:00, 1207.33it/s]"
     ]
    },
    {
     "name": "stdout",
     "output_type": "stream",
     "text": [
      "OpenCV(4.6.0) /Users/xperience/actions-runner/_work/opencv-python/opencv-python/opencv/modules/imgproc/src/resize.cpp:4052: error: (-215:Assertion failed) !ssize.empty() in function 'resize'\n",
      "\n"
     ]
    },
    {
     "name": "stderr",
     "output_type": "stream",
     "text": [
      "100%|██████████| 12501/12501 [00:10<00:00, 1150.52it/s]\n"
     ]
    },
    {
     "name": "stdout",
     "output_type": "stream",
     "text": [
      "PetImages/Dog\n"
     ]
    },
    {
     "name": "stderr",
     "output_type": "stream",
     "text": [
      "  4%|▍         | 488/12501 [00:00<00:12, 981.55it/s]"
     ]
    },
    {
     "name": "stdout",
     "output_type": "stream",
     "text": [
      "OpenCV(4.6.0) /Users/xperience/actions-runner/_work/opencv-python/opencv-python/opencv/modules/imgproc/src/resize.cpp:4052: error: (-215:Assertion failed) !ssize.empty() in function 'resize'\n",
      "\n"
     ]
    },
    {
     "name": "stderr",
     "output_type": "stream",
     "text": [
      "  9%|▉         | 1151/12501 [00:01<00:10, 1088.15it/s]Corrupt JPEG data: 65 extraneous bytes before marker 0xd9\n",
      " 10%|█         | 1269/12501 [00:01<00:10, 1114.17it/s]"
     ]
    },
    {
     "name": "stdout",
     "output_type": "stream",
     "text": [
      "OpenCV(4.6.0) /Users/xperience/actions-runner/_work/opencv-python/opencv-python/opencv/modules/imgproc/src/resize.cpp:4052: error: (-215:Assertion failed) !ssize.empty() in function 'resize'\n",
      "\n",
      "OpenCV(4.6.0) /Users/xperience/actions-runner/_work/opencv-python/opencv-python/opencv/modules/imgproc/src/resize.cpp:4052: error: (-215:Assertion failed) !ssize.empty() in function 'resize'\n",
      "\n",
      "OpenCV(4.6.0) /Users/xperience/actions-runner/_work/opencv-python/opencv-python/opencv/modules/imgproc/src/resize.cpp:4052: error: (-215:Assertion failed) !ssize.empty() in function 'resize'\n",
      "\n"
     ]
    },
    {
     "name": "stderr",
     "output_type": "stream",
     "text": [
      " 21%|██        | 2606/12501 [00:02<00:09, 1090.59it/s]"
     ]
    },
    {
     "name": "stdout",
     "output_type": "stream",
     "text": [
      "OpenCV(4.6.0) /Users/xperience/actions-runner/_work/opencv-python/opencv-python/opencv/modules/imgproc/src/resize.cpp:4052: error: (-215:Assertion failed) !ssize.empty() in function 'resize'\n",
      "\n"
     ]
    },
    {
     "name": "stderr",
     "output_type": "stream",
     "text": [
      " 23%|██▎       | 2824/12501 [00:02<00:09, 1073.98it/s]"
     ]
    },
    {
     "name": "stdout",
     "output_type": "stream",
     "text": [
      "OpenCV(4.6.0) /Users/xperience/actions-runner/_work/opencv-python/opencv-python/opencv/modules/imgproc/src/resize.cpp:4052: error: (-215:Assertion failed) !ssize.empty() in function 'resize'\n",
      "\n",
      "OpenCV(4.6.0) /Users/xperience/actions-runner/_work/opencv-python/opencv-python/opencv/modules/imgproc/src/resize.cpp:4052: error: (-215:Assertion failed) !ssize.empty() in function 'resize'\n",
      "\n"
     ]
    },
    {
     "name": "stderr",
     "output_type": "stream",
     "text": [
      " 31%|███       | 3898/12501 [00:03<00:08, 1062.46it/s]"
     ]
    },
    {
     "name": "stdout",
     "output_type": "stream",
     "text": [
      "OpenCV(4.6.0) /Users/xperience/actions-runner/_work/opencv-python/opencv-python/opencv/modules/imgproc/src/resize.cpp:4052: error: (-215:Assertion failed) !ssize.empty() in function 'resize'\n",
      "\n",
      "OpenCV(4.6.0) /Users/xperience/actions-runner/_work/opencv-python/opencv-python/opencv/modules/imgproc/src/resize.cpp:4052: error: (-215:Assertion failed) !ssize.empty() in function 'resize'\n",
      "\n",
      "OpenCV(4.6.0) /Users/xperience/actions-runner/_work/opencv-python/opencv-python/opencv/modules/imgproc/src/resize.cpp:4052: error: (-215:Assertion failed) !ssize.empty() in function 'resize'\n",
      "\n"
     ]
    },
    {
     "name": "stderr",
     "output_type": "stream",
     "text": [
      " 37%|███▋      | 4682/12501 [00:04<00:06, 1120.45it/s]"
     ]
    },
    {
     "name": "stdout",
     "output_type": "stream",
     "text": [
      "OpenCV(4.6.0) /Users/xperience/actions-runner/_work/opencv-python/opencv-python/opencv/modules/imgproc/src/resize.cpp:4052: error: (-215:Assertion failed) !ssize.empty() in function 'resize'\n",
      "\n"
     ]
    },
    {
     "name": "stderr",
     "output_type": "stream",
     "text": [
      " 39%|███▉      | 4907/12501 [00:04<00:06, 1088.86it/s]Corrupt JPEG data: 226 extraneous bytes before marker 0xd9\n",
      " 41%|████      | 5132/12501 [00:04<00:06, 1103.65it/s]"
     ]
    },
    {
     "name": "stdout",
     "output_type": "stream",
     "text": [
      "OpenCV(4.6.0) /Users/xperience/actions-runner/_work/opencv-python/opencv-python/opencv/modules/imgproc/src/resize.cpp:4052: error: (-215:Assertion failed) !ssize.empty() in function 'resize'\n",
      "\n",
      "OpenCV(4.6.0) /Users/xperience/actions-runner/_work/opencv-python/opencv-python/opencv/modules/imgproc/src/resize.cpp:4052: error: (-215:Assertion failed) !ssize.empty() in function 'resize'\n",
      "\n",
      "OpenCV(4.6.0) /Users/xperience/actions-runner/_work/opencv-python/opencv-python/opencv/modules/imgproc/src/resize.cpp:4052: error: (-215:Assertion failed) !ssize.empty() in function 'resize'\n",
      "\n"
     ]
    },
    {
     "name": "stderr",
     "output_type": "stream",
     "text": [
      " 49%|████▉     | 6150/12501 [00:05<00:05, 1129.63it/s]"
     ]
    },
    {
     "name": "stdout",
     "output_type": "stream",
     "text": [
      "OpenCV(4.6.0) /Users/xperience/actions-runner/_work/opencv-python/opencv-python/opencv/modules/imgproc/src/resize.cpp:4052: error: (-215:Assertion failed) !ssize.empty() in function 'resize'\n",
      "\n",
      "OpenCV(4.6.0) /Users/xperience/actions-runner/_work/opencv-python/opencv-python/opencv/modules/imgproc/src/resize.cpp:4052: error: (-215:Assertion failed) !ssize.empty() in function 'resize'\n",
      "\n"
     ]
    },
    {
     "name": "stderr",
     "output_type": "stream",
     "text": [
      " 51%|█████     | 6376/12501 [00:05<00:05, 1103.40it/s]"
     ]
    },
    {
     "name": "stdout",
     "output_type": "stream",
     "text": [
      "OpenCV(4.6.0) /Users/xperience/actions-runner/_work/opencv-python/opencv-python/opencv/modules/imgproc/src/resize.cpp:4052: error: (-215:Assertion failed) !ssize.empty() in function 'resize'\n",
      "\n"
     ]
    },
    {
     "name": "stderr",
     "output_type": "stream",
     "text": [
      " 55%|█████▍    | 6823/12501 [00:06<00:05, 1097.26it/s]"
     ]
    },
    {
     "name": "stdout",
     "output_type": "stream",
     "text": [
      "OpenCV(4.6.0) /Users/xperience/actions-runner/_work/opencv-python/opencv-python/opencv/modules/imgproc/src/resize.cpp:4052: error: (-215:Assertion failed) !ssize.empty() in function 'resize'\n",
      "\n",
      "OpenCV(4.6.0) /Users/xperience/actions-runner/_work/opencv-python/opencv-python/opencv/modules/imgproc/src/resize.cpp:4052: error: (-215:Assertion failed) !ssize.empty() in function 'resize'\n",
      "\n",
      "OpenCV(4.6.0) /Users/xperience/actions-runner/_work/opencv-python/opencv-python/opencv/modules/imgproc/src/resize.cpp:4052: error: (-215:Assertion failed) !ssize.empty() in function 'resize'\n",
      "\n"
     ]
    },
    {
     "name": "stderr",
     "output_type": "stream",
     "text": [
      " 55%|█████▌    | 6933/12501 [00:06<00:05, 1082.14it/s]Corrupt JPEG data: 162 extraneous bytes before marker 0xd9\n",
      " 57%|█████▋    | 7150/12501 [00:06<00:05, 1063.29it/s]"
     ]
    },
    {
     "name": "stdout",
     "output_type": "stream",
     "text": [
      "OpenCV(4.6.0) /Users/xperience/actions-runner/_work/opencv-python/opencv-python/opencv/modules/imgproc/src/resize.cpp:4052: error: (-215:Assertion failed) !ssize.empty() in function 'resize'\n",
      "\n",
      "OpenCV(4.6.0) /Users/xperience/actions-runner/_work/opencv-python/opencv-python/opencv/modules/imgproc/src/resize.cpp:4052: error: (-215:Assertion failed) !ssize.empty() in function 'resize'\n",
      "\n"
     ]
    },
    {
     "name": "stderr",
     "output_type": "stream",
     "text": [
      " 60%|█████▉    | 7481/12501 [00:07<00:04, 1068.82it/s]Warning: unknown JFIF revision number 0.00\n",
      " 64%|██████▍   | 8043/12501 [00:07<00:04, 1103.11it/s]"
     ]
    },
    {
     "name": "stdout",
     "output_type": "stream",
     "text": [
      "OpenCV(4.6.0) /Users/xperience/actions-runner/_work/opencv-python/opencv-python/opencv/modules/imgproc/src/resize.cpp:4052: error: (-215:Assertion failed) !ssize.empty() in function 'resize'\n",
      "\n"
     ]
    },
    {
     "name": "stderr",
     "output_type": "stream",
     "text": [
      " 69%|██████▉   | 8608/12501 [00:08<00:03, 1121.34it/s]"
     ]
    },
    {
     "name": "stdout",
     "output_type": "stream",
     "text": [
      "OpenCV(4.6.0) /Users/xperience/actions-runner/_work/opencv-python/opencv-python/opencv/modules/imgproc/src/resize.cpp:4052: error: (-215:Assertion failed) !ssize.empty() in function 'resize'\n",
      "\n"
     ]
    },
    {
     "name": "stderr",
     "output_type": "stream",
     "text": [
      " 71%|███████   | 8843/12501 [00:08<00:03, 1138.93it/s]"
     ]
    },
    {
     "name": "stdout",
     "output_type": "stream",
     "text": [
      "OpenCV(4.6.0) /Users/xperience/actions-runner/_work/opencv-python/opencv-python/opencv/modules/imgproc/src/resize.cpp:4052: error: (-215:Assertion failed) !ssize.empty() in function 'resize'\n",
      "\n"
     ]
    },
    {
     "name": "stderr",
     "output_type": "stream",
     "text": [
      " 74%|███████▍  | 9306/12501 [00:08<00:02, 1152.35it/s]"
     ]
    },
    {
     "name": "stdout",
     "output_type": "stream",
     "text": [
      "OpenCV(4.6.0) /Users/xperience/actions-runner/_work/opencv-python/opencv-python/opencv/modules/imgproc/src/resize.cpp:4052: error: (-215:Assertion failed) !ssize.empty() in function 'resize'\n",
      "\n",
      "OpenCV(4.6.0) /Users/xperience/actions-runner/_work/opencv-python/opencv-python/opencv/modules/imgproc/src/resize.cpp:4052: error: (-215:Assertion failed) !ssize.empty() in function 'resize'\n",
      "\n"
     ]
    },
    {
     "name": "stderr",
     "output_type": "stream",
     "text": [
      "Corrupt JPEG data: 2230 extraneous bytes before marker 0xd9\n",
      " 84%|████████▎ | 10453/12501 [00:09<00:01, 1097.81it/s]"
     ]
    },
    {
     "name": "stdout",
     "output_type": "stream",
     "text": [
      "OpenCV(4.6.0) /Users/xperience/actions-runner/_work/opencv-python/opencv-python/opencv/modules/imgproc/src/resize.cpp:4052: error: (-215:Assertion failed) !ssize.empty() in function 'resize'\n",
      "\n"
     ]
    },
    {
     "name": "stderr",
     "output_type": "stream",
     "text": [
      "Corrupt JPEG data: 254 extraneous bytes before marker 0xd9\n",
      " 85%|████████▌ | 10674/12501 [00:09<00:01, 1099.29it/s]"
     ]
    },
    {
     "name": "stdout",
     "output_type": "stream",
     "text": [
      "OpenCV(4.6.0) /Users/xperience/actions-runner/_work/opencv-python/opencv-python/opencv/modules/imgproc/src/resize.cpp:4052: error: (-215:Assertion failed) !ssize.empty() in function 'resize'\n",
      "\n"
     ]
    },
    {
     "name": "stderr",
     "output_type": "stream",
     "text": [
      " 90%|████████▉ | 11233/12501 [00:10<00:01, 1094.41it/s]"
     ]
    },
    {
     "name": "stdout",
     "output_type": "stream",
     "text": [
      "OpenCV(4.6.0) /Users/xperience/actions-runner/_work/opencv-python/opencv-python/opencv/modules/imgproc/src/resize.cpp:4052: error: (-215:Assertion failed) !ssize.empty() in function 'resize'\n",
      "\n"
     ]
    },
    {
     "name": "stderr",
     "output_type": "stream",
     "text": [
      " 91%|█████████ | 11353/12501 [00:10<00:01, 1123.36it/s]Corrupt JPEG data: 399 extraneous bytes before marker 0xd9\n",
      " 96%|█████████▋| 12035/12501 [00:11<00:00, 1132.59it/s]Corrupt JPEG data: 1403 extraneous bytes before marker 0xd9\n",
      " 99%|█████████▉| 12373/12501 [00:11<00:00, 1084.93it/s]"
     ]
    },
    {
     "name": "stdout",
     "output_type": "stream",
     "text": [
      "OpenCV(4.6.0) /Users/xperience/actions-runner/_work/opencv-python/opencv-python/opencv/modules/imgproc/src/resize.cpp:4052: error: (-215:Assertion failed) !ssize.empty() in function 'resize'\n",
      "\n"
     ]
    },
    {
     "name": "stderr",
     "output_type": "stream",
     "text": [
      "100%|██████████| 12501/12501 [00:11<00:00, 1082.51it/s]\n",
      "/Users/hamzagorgulu/Library/Python/3.8/lib/python/site-packages/numpy/lib/npyio.py:501: VisibleDeprecationWarning: Creating an ndarray from ragged nested sequences (which is a list-or-tuple of lists-or-tuples-or ndarrays with different lengths or shapes) is deprecated. If you meant to do this, you must specify 'dtype=object' when creating the ndarray.\n",
      "  arr = np.asanyarray(arr)\n"
     ]
    },
    {
     "name": "stdout",
     "output_type": "stream",
     "text": [
      "Cats:  12476\n",
      "Dogs:  12470\n"
     ]
    }
   ],
   "source": [
    "import os\n",
    "import cv2\n",
    "import numpy as np\n",
    "from tqdm import tqdm\n",
    "\n",
    "REBUILD_DATA = True\n",
    "\n",
    "class DogsVSCats():\n",
    "    IMG_SIZE = 50  #we will resize images as 50x50\n",
    "    CATS = \"PetImages/Cat\"\n",
    "    DOGS = \"PetImages/Dog\"\n",
    "    LABELS = {CATS: 0, DOGS: 1}\n",
    "    training_data = []\n",
    "    catcount = 0\n",
    "    dogcount = 0  #we always need to be aware of the balance\n",
    "\n",
    "    def make_training_data(self):\n",
    "        for label in self.LABELS:\n",
    "            print(label)\n",
    "            for f in tqdm(os.listdir(label)):  #directory of label\n",
    "                try:\n",
    "\n",
    "                    path = os.path.join(label, f)\n",
    "                    img = cv2.imread(path, cv2.IMREAD_GRAYSCALE) #does not take colors into account\n",
    "                    img = cv2.resize(img, (self.IMG_SIZE, self.IMG_SIZE)) #resize 50x50\n",
    "                    self.training_data.append([np.array(img), np.eye(2)[self.LABELS[label]]])\n",
    "\n",
    "                    if label == self.CATS:\n",
    "                        self.catcount += 1\n",
    "                    if label == self.DOGS:\n",
    "                        self.dogcount += 1\n",
    "                except Exception as e: \n",
    "                    print(str(e))\n",
    "                    pass\n",
    "        np.random.shuffle(self.training_data)\n",
    "        np.save(\"training_data.npy\", self.training_data)\n",
    "        print(\"Cats: \", self.catcount)\n",
    "        print(\"Dogs: \", self.dogcount)\n",
    "\n",
    "if REBUILD_DATA:\n",
    "    dogsvcatts = DogsVSCats()\n",
    "    dogsvcatts.make_training_data()"
   ]
  },
  {
   "cell_type": "code",
   "execution_count": 32,
   "metadata": {},
   "outputs": [
    {
     "name": "stdout",
     "output_type": "stream",
     "text": [
      "24946\n",
      "[array([[200, 191, 161, ...,  87,  89,  87],\n",
      "        [198, 172, 209, ...,  85,  88,  83],\n",
      "        [200, 198, 208, ...,  82,  80,  79],\n",
      "        ...,\n",
      "        [ 89, 116,  90, ...,  63,  61,  60],\n",
      "        [ 64,  99,  93, ...,  59,  63,  63],\n",
      "        [ 65, 105, 145, ...,  61,  65,  73]], dtype=uint8) array([0., 1.])]\n"
     ]
    }
   ],
   "source": [
    "training_data = np.load(\"training_data.npy\", allow_pickle=True)\n",
    "print(len(training_data))\n",
    "print(training_data[0]) # dog"
   ]
  },
  {
   "cell_type": "code",
   "execution_count": 33,
   "metadata": {},
   "outputs": [
    {
     "data": {
      "image/png": "[encoded data removed]",
      "text/plain": [
       "<Figure size 432x288 with 1 Axes>"
      ]
     },
     "metadata": {
      "needs_background": "light"
     },
     "output_type": "display_data"
    }
   ],
   "source": [
    "plt.imshow(training_data[0][0], cmap = \"gray\")\n",
    "plt.show()  #grayscaled image"
   ]
  },
  {
   "cell_type": "markdown",
   "metadata": {},
   "source": [
    "SIXTH STAGE STARTS HERE - TRAINING CONVNET"
   ]
  },
  {
   "cell_type": "code",
   "execution_count": 35,
   "metadata": {},
   "outputs": [
    {
     "name": "stdout",
     "output_type": "stream",
     "text": [
      "torch.Size([128, 2, 2])\n"
     ]
    }
   ],
   "source": [
    "class Net(nn.Module):\n",
    "    def __init__(self):\n",
    "        super().__init__()\n",
    "        self.conv1 = nn.Conv2d(1, 32, 5)  # 2 dim conv layer, 5 is kernel size\n",
    "        self.conv2 = nn.Conv2d(32, 64, 5)  # the prev. example was Linear layer\n",
    "        self.conv3 = nn.Conv2d(64, 128, 5)\n",
    "\n",
    "        x = torch.randn(50,50).view(-1, 1, 50, 50)\n",
    "        self._to_linear = None\n",
    "        self.convs(x)\n",
    "\n",
    "        #self.fc1 = nn.Linear( , 512)\n",
    "        #self.fc2 = nn.Linear(512, 2)\n",
    "    def convs(self, x):  #about the size\n",
    "        x = F.max_pool2d(F.relu(self.conv1(x)), (2,2,))\n",
    "        x = F.max_pool2d(F.relu(self.conv2(x)), (2,2,))\n",
    "        x = F.max_pool2d(F.relu(self.conv3(x)), (2,2,))\n",
    "        print(x[0].shape)\n",
    "\n",
    "        if self._to_linear is None:\n",
    "            self._to_linear = x[0].shape[0] * x[0].shape[1] * x[0].shape[2]\n",
    "        return x\n",
    "\n",
    "    def forward(self, x):\n",
    "        x = self.convs(x) #pass through all of the conv layers\n",
    "        x = x.view(-1, self._to_linear)  #flatten it\n",
    "        x = F.relu(self.fc1(x))  # pass through first fc1\n",
    "        x = self.fc2(x)  # pass through fc2\n",
    "        return x\n",
    "net = Net()\n",
    "\n",
    "#in the later, it trains the model and get result, nothing new"
   ]
  },
  {
   "cell_type": "markdown",
   "metadata": {},
   "source": [
    "SEVENTH STAGE STARTS HERE - GPUs"
   ]
  },
  {
   "cell_type": "code",
   "execution_count": null,
   "metadata": {},
   "outputs": [],
   "source": []
  }
 ],
 "metadata": {
  "kernelspec": {
   "display_name": "Python 3.8.9 64-bit",
   "language": "python",
   "name": "python3"
  },
  "language_info": {
   "codemirror_mode": {
    "name": "ipython",
    "version": 3
   },
   "file_extension": ".py",
   "mimetype": "text/x-python",
   "name": "python",
   "nbconvert_exporter": "python",
   "pygments_lexer": "ipython3",
   "version": "3.8.9"
  },
  "orig_nbformat": 4,
  "vscode": {
   "interpreter": {
    "hash": "31f2aee4e71d21fbe5cf8b01ff0e069b9275f58929596ceb00d14d90e3e16cd6"
   }
  }
 },
 "nbformat": 4,
 "nbformat_minor": 2
}
